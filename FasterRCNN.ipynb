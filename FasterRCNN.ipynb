{
 "cells": [
  {
   "cell_type": "code",
   "execution_count": 1,
   "id": "e1ae6563",
   "metadata": {},
   "outputs": [],
   "source": [
    "import os\n",
    "import json\n",
    "import torch\n",
    "import random\n",
    "import Precisions\n",
    "import torchvision\n",
    "import pandas as pd\n",
    "import torch.nn as nn\n",
    "import numpy as np\n",
    "from PIL import Image\n",
    "import torch.optim as optim\n",
    "from matplotlib import patches\n",
    "import matplotlib.pyplot as plt\n",
    "from torch.utils.data import Dataset\n",
    "import torchvision.transforms.functional as F\n",
    "from torchvision.models import ResNet50_Weights, MobileNet_V3_Large_Weights\n",
    "from torchvision.models.detection.faster_rcnn import FastRCNNPredictor\n",
    "from torchvision.models.detection import fasterrcnn_resnet50_fpn, FasterRCNN_ResNet50_FPN_Weights\n",
    "from torchvision.models.detection import fasterrcnn_mobilenet_v3_large_fpn, FasterRCNN_MobileNet_V3_Large_FPN_Weights"
   ]
  },
  {
   "cell_type": "code",
   "execution_count": 2,
   "id": "08cc9d05",
   "metadata": {},
   "outputs": [],
   "source": [
    "device = torch.device('cuda') if torch.cuda.is_available() else torch.device('cpu')"
   ]
  },
  {
   "cell_type": "code",
   "execution_count": 3,
   "id": "93106cf9",
   "metadata": {},
   "outputs": [],
   "source": [
    "# from https://github.com/sgrvinod/Deep-Tutorials-for-PyTorch \n",
    "# in file datasets.py under MIT license\n",
    "# this class allows me to get a new set of data without having to physically move the images and annotations\n",
    "class PascalVOCDataset(Dataset):\n",
    "    def __init__(self, data_folder, split):\n",
    "        self.split = split.upper()\n",
    "        assert self.split in {'TRAIN', 'TEST'}\n",
    "        self.data_folder = data_folder\n",
    "\n",
    "        # Read data files\n",
    "        with open(os.path.join(data_folder, self.split + '_images.json'), 'r') as j:\n",
    "            self.images = json.load(j)\n",
    "        with open(os.path.join(data_folder, self.split + '_objects.json'), 'r') as j:\n",
    "            self.objects = json.load(j)\n",
    "        assert len(self.images) == len(self.objects)\n",
    "\n",
    "    def __getitem__(self, i):\n",
    "        image = Image.open(self.images[i], mode='r')\n",
    "        # making sure images are all same size so they can be stacked in collate\n",
    "        image = image.convert('RGB')\n",
    "\n",
    "        # setting values of targets to tensors\n",
    "        objects = self.objects[i]\n",
    "        boxes = torch.FloatTensor(objects['boxes'])  \n",
    "        labels = torch.LongTensor(objects['labels']) \n",
    "        \n",
    "        # resizing image and bbox\n",
    "        width, height = image.width, image.height\n",
    "        old_dims = torch.FloatTensor([width, height, width, height]).unsqueeze(0)\n",
    "        new_boxes = boxes / old_dims * IMG_SIZE\n",
    "        new_image = F.resize(image, (IMG_SIZE, IMG_SIZE))\n",
    "        \n",
    "        # dictionary of targets\n",
    "        target = {}\n",
    "        target['boxes'] = new_boxes\n",
    "        target['labels'] = labels\n",
    "\n",
    "        # transform to torch and normalize\n",
    "        new_image = F.to_tensor(new_image)\n",
    "        new_image = F.normalize(new_image, mean=mean, std=std)\n",
    "\n",
    "        return new_image, target\n",
    "\n",
    "    def __len__(self):\n",
    "        return len(self.images)\n",
    "\n",
    "    def collate_fn(self, batch):\n",
    "        images = list()\n",
    "        targets = list()\n",
    "        for b in batch:\n",
    "            images.append(b[0])\n",
    "            targets.append(b[1])\n",
    "        images = torch.stack(images, dim=0)\n",
    "\n",
    "        return images, targets"
   ]
  },
  {
   "cell_type": "code",
   "execution_count": 5,
   "id": "a151fd2c",
   "metadata": {},
   "outputs": [],
   "source": [
    "def plot_image(image, output, true_box, save=False, file=None):\n",
    "    # converting input image back to regular\n",
    "    image = image.cpu().numpy().transpose(1, 2, 0)\n",
    "    image = image*np.array(std)+np.array(mean)\n",
    "    image = np.clip(image, 0, 1)\n",
    "    \n",
    "    fig = plt.figure()\n",
    "    ax = plt.Subplot(fig, 111)\n",
    "    fig.add_subplot(ax)\n",
    "    ax.imshow(image)\n",
    "    \n",
    "    bbox = output['boxes'].cpu().numpy()\n",
    "    true_box = true_box.cpu().numpy()\n",
    "    \n",
    "    # converting to coco box\n",
    "    bbox[:, 2] = bbox[:, 2] - bbox[:, 0]\n",
    "    bbox[:, 3] = bbox[:, 3] - bbox[:, 1]\n",
    "    \n",
    "    for b in range(10):\n",
    "        ax.add_patch(patches.Rectangle(\n",
    "            (bbox[b][0], bbox[b][1]), bbox[b][2], bbox[b][3],\n",
    "            linewidth=1, edgecolor='red', facecolor='none'))\n",
    "    for box in true_box:\n",
    "        box[2] = box[2] - box[0]\n",
    "        box[3] = box[3] - box[1]\n",
    "        ax.add_patch(patches.Rectangle(\n",
    "                (box[0], box[1]), box[2], box[3],\n",
    "                linewidth=1, edgecolor='green', facecolor='none'))\n",
    "    ax.axis('off')\n",
    "    if save:\n",
    "        fig.savefig(file)"
   ]
  },
  {
   "cell_type": "code",
   "execution_count": 6,
   "id": "a731165c",
   "metadata": {},
   "outputs": [],
   "source": [
    "data_folder = 'F:/Det_Project/full_dataset'\n",
    "mean = [0.485, 0.456, 0.406]\n",
    "std = [0.229, 0.224, 0.225]\n",
    "num_classes = 6\n",
    "batch_size = 6\n",
    "IMG_SIZE = 112\n",
    "num_boxes = 15"
   ]
  },
  {
   "cell_type": "code",
   "execution_count": 7,
   "id": "17c0caa2",
   "metadata": {},
   "outputs": [],
   "source": [
    "train_dataset = PascalVOCDataset(data_folder, split='train')\n",
    "train_loader = torch.utils.data.DataLoader(train_dataset, batch_size=batch_size, shuffle=True,\n",
    "                                               collate_fn=lambda x:list(zip(*x)))"
   ]
  },
  {
   "cell_type": "code",
   "execution_count": 8,
   "id": "8b401c1e",
   "metadata": {
    "scrolled": true
   },
   "outputs": [
    {
     "name": "stderr",
     "output_type": "stream",
     "text": [
      "C:\\Users\\Belda\\anaconda3\\envs\\ObjDet\\Lib\\site-packages\\torchvision\\models\\_utils.py:223: UserWarning: Arguments other than a weight enum or `None` for 'weights' are deprecated since 0.13 and may be removed in the future. The current behavior is equivalent to passing `weights=FasterRCNN_MobileNet_V3_Large_FPN_Weights.COCO_V1`. You can also use `weights=FasterRCNN_MobileNet_V3_Large_FPN_Weights.DEFAULT` to get the most up-to-date weights.\n",
      "  warnings.warn(msg)\n"
     ]
    }
   ],
   "source": [
    "backbone_weights = MobileNet_V3_Large_Weights.IMAGENET1K_V2\n",
    "weights = FasterRCNN_MobileNet_V3_Large_FPN_Weights\n",
    "model = fasterrcnn_mobilenet_v3_large_fpn(weights=weights, backbone_weights=backbone_weights, box_detections_per_img=num_boxes)\n",
    "\n",
    "#weights = FasterRCNN_ResNet50_FPN_Weights.DEFAULT\n",
    "#weights = ResNet50_Weights.IMAGENET1K_V2\n",
    "#model = fasterrcnn_resnet50_fpn(weights=weights, box_detections_per_img=num_boxes)"
   ]
  },
  {
   "cell_type": "markdown",
   "id": "92e9e0ac",
   "metadata": {},
   "source": [
    "The following training setup is inspired by this tutorial:\n",
    "> https://www.kaggle.com/code/bharatb964/pytorch-implementation-of-faster-r-cnn"
   ]
  },
  {
   "cell_type": "code",
   "execution_count": 9,
   "id": "28dba2d3",
   "metadata": {},
   "outputs": [],
   "source": [
    "in_features = model.roi_heads.box_predictor.cls_score.in_features\n",
    "model.roi_heads.box_predictor = FastRCNNPredictor(in_features, num_classes)\n",
    "model=model.to(device)"
   ]
  },
  {
   "cell_type": "code",
   "execution_count": 10,
   "id": "f3b37f6f",
   "metadata": {},
   "outputs": [],
   "source": [
    "reload_step = 0\n",
    "n_epochs = 18\n",
    "params = [p for p in model.parameters() if p.requires_grad]\n",
    "optimizer = torch.optim.SGD(params, lr=0.01)"
   ]
  },
  {
   "cell_type": "markdown",
   "id": "5fc587c2",
   "metadata": {},
   "source": [
    "# Reloading for continual learning"
   ]
  },
  {
   "cell_type": "code",
   "execution_count": 9,
   "id": "841f4b1f",
   "metadata": {},
   "outputs": [
    {
     "data": {
      "text/plain": [
       "<All keys matched successfully>"
      ]
     },
     "execution_count": 9,
     "metadata": {},
     "output_type": "execute_result"
    }
   ],
   "source": [
    "### only for continuing training ###\n",
    "reload_step = 2\n",
    "model.load_state_dict(torch.load('models/model_{}.pth'.format(reload_step)))"
   ]
  },
  {
   "cell_type": "markdown",
   "id": "3ae0bd1a",
   "metadata": {},
   "source": [
    "# Training"
   ]
  },
  {
   "cell_type": "code",
   "execution_count": 11,
   "id": "53983b18",
   "metadata": {
    "scrolled": false
   },
   "outputs": [
    {
     "name": "stdout",
     "output_type": "stream",
     "text": [
      "Epoch 1/18 complete, loss = 2.8878462314605713\n",
      "Epoch 2/18 complete, loss = 3.348783254623413\n",
      "Epoch 3/18 complete, loss = 2.9353489875793457\n",
      "Epoch 4/18 complete, loss = 3.0882041454315186\n",
      "Epoch 5/18 complete, loss = 2.9500725269317627\n",
      "Epoch 6/18 complete, loss = 3.0402908325195312\n",
      "Epoch 7/18 complete, loss = 3.5721962451934814\n",
      "Epoch 8/18 complete, loss = 3.374530792236328\n",
      "Epoch 9/18 complete, loss = 3.2781107425689697\n",
      "Epoch 10/18 complete, loss = 3.5647995471954346\n",
      "Epoch 11/18 complete, loss = 3.296774387359619\n",
      "Epoch 12/18 complete, loss = 2.473008155822754\n",
      "Epoch 13/18 complete, loss = 4.129650592803955\n",
      "Epoch 14/18 complete, loss = 4.787254333496094\n",
      "Epoch 15/18 complete, loss = 2.8078174591064453\n",
      "Epoch 16/18 complete, loss = 3.510704278945923\n",
      "Epoch 17/18 complete, loss = 3.090057373046875\n",
      "Epoch 18/18 complete, loss = 3.128458023071289\n"
     ]
    }
   ],
   "source": [
    "model.train()\n",
    "total_losses = list()\n",
    "for epoch in range(n_epochs):\n",
    "    for X_batch, y_batch in train_loader:\n",
    "        # making sure on device\n",
    "        X_batch = list(X.to(device) for X in X_batch)\n",
    "        y_batch = [{k: v.to(device) for k, v in t.items()} for t in y_batch]\n",
    "        \n",
    "        # getting prediction losses\n",
    "        pred_loss = model(X_batch, y_batch)\n",
    "        total_loss = sum(loss for loss in pred_loss.values())\n",
    "        total_loss.backward()\n",
    "        \n",
    "        # stepping\n",
    "        optimizer.zero_grad()\n",
    "        optimizer.step()\n",
    "    total_losses.append(total_loss.item())\n",
    "    print('Epoch {}/{} complete, loss = {}'.format((epoch+1),n_epochs, total_loss.item()))"
   ]
  },
  {
   "cell_type": "markdown",
   "id": "60042390",
   "metadata": {},
   "source": [
    "# Saving"
   ]
  },
  {
   "cell_type": "code",
   "execution_count": 12,
   "id": "75347b05",
   "metadata": {},
   "outputs": [],
   "source": [
    "torch.save(model.state_dict(), 'models/mobilenet_{}epoch_SGD_lr_01_box15_both.pth'.format(n_epochs+reload_step))\n",
    "torch.save(total_losses,'losses/mobilenet_losses_{}epoch_SGD_lr_01_box15_both.pth'.format(n_epochs+reload_step))"
   ]
  },
  {
   "cell_type": "code",
   "execution_count": 13,
   "id": "ec5db9c3",
   "metadata": {},
   "outputs": [
    {
     "data": {
      "text/plain": [
       "[<matplotlib.lines.Line2D at 0x1b71c56ced0>]"
      ]
     },
     "execution_count": 13,
     "metadata": {},
     "output_type": "execute_result"
    },
    {
     "data": {
      "image/png": "[encoded data removed]",
      "text/plain": [
       "<Figure size 640x480 with 1 Axes>"
      ]
     },
     "metadata": {},
     "output_type": "display_data"
    }
   ],
   "source": [
    "plt.plot(range(n_epochs), total_losses)"
   ]
  },
  {
   "cell_type": "markdown",
   "id": "cf14f955",
   "metadata": {},
   "source": [
    "# Reloading for testing"
   ]
  },
  {
   "cell_type": "code",
   "execution_count": 10,
   "id": "c135c55f",
   "metadata": {},
   "outputs": [
    {
     "data": {
      "text/plain": [
       "<All keys matched successfully>"
      ]
     },
     "execution_count": 10,
     "metadata": {},
     "output_type": "execute_result"
    }
   ],
   "source": [
    "reload_step = 18\n",
    "model.load_state_dict(torch.load('models/model_{}epoch_SGD_lr_01_backbone.pth'.format(reload_step)))"
   ]
  },
  {
   "cell_type": "markdown",
   "id": "45cf9313",
   "metadata": {},
   "source": [
    "# Testing"
   ]
  },
  {
   "cell_type": "code",
   "execution_count": 14,
   "id": "79b9430e",
   "metadata": {},
   "outputs": [],
   "source": [
    "number_test_images = 100\n",
    "test_dataset = PascalVOCDataset(data_folder, split='test')\n",
    "data_indices = np.arange(0,len(test_dataset))\n",
    "random.shuffle(data_indices)\n",
    "small_test_set = torch.utils.data.Subset(test_dataset, data_indices[:number_test_images])"
   ]
  },
  {
   "cell_type": "code",
   "execution_count": 15,
   "id": "d57fe77b",
   "metadata": {},
   "outputs": [],
   "source": [
    "test_batch = 6\n",
    "test_loader = torch.utils.data.DataLoader(small_test_set, batch_size=test_batch, shuffle=True,\n",
    "                                               collate_fn=lambda x:list(zip(*x)))"
   ]
  },
  {
   "cell_type": "code",
   "execution_count": 16,
   "id": "0cdee5f2",
   "metadata": {},
   "outputs": [],
   "source": [
    "model.eval()\n",
    "y_list = []\n",
    "batch_index = 0\n",
    "\n",
    "for X_batch, y_batch in test_loader:\n",
    "    y_list.extend(y_batch)\n",
    "    # making sure on device\n",
    "    X_batch = list(X.to(device) for X in X_batch)\n",
    "    y_batch = [{k: v.to(device) for k, v in t.items()} for t in y_batch]\n",
    "        \n",
    "    # getting bbox, label, score\n",
    "    output = model(X_batch)\n",
    "    torch.save(output,'batch_data/batch_{}.path'.format(batch_index))\n",
    "    batch_index = batch_index+1\n"
   ]
  },
  {
   "cell_type": "code",
   "execution_count": 17,
   "id": "8663da22",
   "metadata": {},
   "outputs": [],
   "source": [
    "data = []\n",
    "for i in range(batch_index):\n",
    "    batch_temp = torch.load('batch_data/batch_{}.path'.format(i), map_location='cpu')\n",
    "    data.extend(batch_temp)"
   ]
  },
  {
   "cell_type": "code",
   "execution_count": 18,
   "id": "f40ae832",
   "metadata": {
    "scrolled": true
   },
   "outputs": [],
   "source": [
    "with torch.no_grad():\n",
    "    mAP, AP = Precisions.AP(data, y_list)"
   ]
  },
  {
   "cell_type": "code",
   "execution_count": 19,
   "id": "5ced4343",
   "metadata": {},
   "outputs": [
    {
     "name": "stdout",
     "output_type": "stream",
     "text": [
      "AP:\n",
      " {'1': 0, '4': 0, '2': 0, '3': 0, '5': 0} \n",
      "\n",
      "mAP:\n",
      " 0.0\n"
     ]
    }
   ],
   "source": [
    "print('AP:\\n',AP,'\\n\\nmAP:\\n',mAP)\n",
    "torch.save([mAP,AP], 'APs/AP_mobilenet_{}epoch_SGD_lr_01_box15.path'.format(reload_step))"
   ]
  },
  {
   "cell_type": "code",
   "execution_count": 24,
   "id": "1405b52a",
   "metadata": {
    "scrolled": false
   },
   "outputs": [
    {
     "data": {
      "image/png": "[encoded data removed]",
      "text/plain": [
       "<Figure size 640x480 with 1 Axes>"
      ]
     },
     "metadata": {},
     "output_type": "display_data"
    }
   ],
   "source": [
    "batch_index_from_last = 2\n",
    "with torch.no_grad():\n",
    "    plot_image(X_batch[batch_index_from_last], data[batch_index_from_last-1], y_batch[batch_index_from_last-1]['boxes'], save=False, file='images/mobilenet_18epoch_SGD_lr_01_box15_both_example.png')"
   ]
  }
 ],
 "metadata": {
  "kernelspec": {
   "display_name": "Python 3 (ipykernel)",
   "language": "python",
   "name": "python3"
  },
  "language_info": {
   "codemirror_mode": {
    "name": "ipython",
    "version": 3
   },
   "file_extension": ".py",
   "mimetype": "text/x-python",
   "name": "python",
   "nbconvert_exporter": "python",
   "pygments_lexer": "ipython3",
   "version": "3.11.3"
  }
 },
 "nbformat": 4,
 "nbformat_minor": 5
}
